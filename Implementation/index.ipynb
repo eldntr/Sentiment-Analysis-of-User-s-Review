{
 "cells": [
  {
   "cell_type": "markdown",
   "metadata": {},
   "source": [
    "*Sentiment Analysis of User Reviews on Online Marketplace*\n",
    "\n",
    "----"
   ]
  },
  {
   "cell_type": "markdown",
   "metadata": {},
   "source": [
    "# Import Library and Dataset"
   ]
  },
  {
   "cell_type": "markdown",
   "metadata": {},
   "source": [
    "## Import Library"
   ]
  },
  {
   "cell_type": "code",
   "execution_count": 1,
   "metadata": {},
   "outputs": [
    {
     "name": "stderr",
     "output_type": "stream",
     "text": [
      "C:\\Users\\ASUS\\AppData\\Local\\Temp\\ipykernel_23764\\4080736814.py:1: DeprecationWarning: \n",
      "Pyarrow will become a required dependency of pandas in the next major release of pandas (pandas 3.0),\n",
      "(to allow more performant data types, such as the Arrow string type, and better interoperability with other libraries)\n",
      "but was not found to be installed on your system.\n",
      "If this would cause problems for you,\n",
      "please provide us feedback at https://github.com/pandas-dev/pandas/issues/54466\n",
      "        \n",
      "  import pandas as pd\n"
     ]
    }
   ],
   "source": [
    "import pandas as pd"
   ]
  },
  {
   "cell_type": "markdown",
   "metadata": {},
   "source": [
    "## Import Dataset"
   ]
  },
  {
   "cell_type": "code",
   "execution_count": 3,
   "metadata": {},
   "outputs": [
    {
     "data": {
      "text/html": [
       "<div>\n",
       "<style scoped>\n",
       "    .dataframe tbody tr th:only-of-type {\n",
       "        vertical-align: middle;\n",
       "    }\n",
       "\n",
       "    .dataframe tbody tr th {\n",
       "        vertical-align: top;\n",
       "    }\n",
       "\n",
       "    .dataframe thead th {\n",
       "        text-align: right;\n",
       "    }\n",
       "</style>\n",
       "<table border=\"1\" class=\"dataframe\">\n",
       "  <thead>\n",
       "    <tr style=\"text-align: right;\">\n",
       "      <th></th>\n",
       "      <th>Unnamed: 0</th>\n",
       "      <th>text</th>\n",
       "      <th>rating</th>\n",
       "      <th>category</th>\n",
       "      <th>product_name</th>\n",
       "      <th>product_id</th>\n",
       "      <th>sold</th>\n",
       "      <th>shop_id</th>\n",
       "      <th>product_url</th>\n",
       "    </tr>\n",
       "  </thead>\n",
       "  <tbody>\n",
       "    <tr>\n",
       "      <th>0</th>\n",
       "      <td>1</td>\n",
       "      <td>Barang sesuai pesanan dan cepat sampai</td>\n",
       "      <td>5</td>\n",
       "      <td>pertukangan</td>\n",
       "      <td>Staples Dekorasi Staples Kayu + Refill 8mm - S...</td>\n",
       "      <td>418660637</td>\n",
       "      <td>1</td>\n",
       "      <td>1740837</td>\n",
       "      <td>https://www.tokopedia.com/shakaonline87/staple...</td>\n",
       "    </tr>\n",
       "    <tr>\n",
       "      <th>1</th>\n",
       "      <td>2</td>\n",
       "      <td>Barang bagus harga murah</td>\n",
       "      <td>5</td>\n",
       "      <td>pertukangan</td>\n",
       "      <td>STAPLE GUN ATS 3 WAY TACKER - STAPLES JOK TEMB...</td>\n",
       "      <td>416032545</td>\n",
       "      <td>11</td>\n",
       "      <td>1477109</td>\n",
       "      <td>https://www.tokopedia.com/juraganperkakas/stap...</td>\n",
       "    </tr>\n",
       "    <tr>\n",
       "      <th>2</th>\n",
       "      <td>3</td>\n",
       "      <td>Paket rapi...mantap....cepat....sampe ke tujuan</td>\n",
       "      <td>5</td>\n",
       "      <td>pertukangan</td>\n",
       "      <td>STAPLE GUN ATS 3 WAY TACKER - STAPLES JOK TEMB...</td>\n",
       "      <td>416032545</td>\n",
       "      <td>11</td>\n",
       "      <td>1477109</td>\n",
       "      <td>https://www.tokopedia.com/juraganperkakas/stap...</td>\n",
       "    </tr>\n",
       "    <tr>\n",
       "      <th>3</th>\n",
       "      <td>4</td>\n",
       "      <td>ya saya puas dgn barangnya</td>\n",
       "      <td>5</td>\n",
       "      <td>pertukangan</td>\n",
       "      <td>ALAT STAPLES TEMBAK &amp;#40;AIR NAILER GUN&amp;#41; O...</td>\n",
       "      <td>102279869</td>\n",
       "      <td>5</td>\n",
       "      <td>771395</td>\n",
       "      <td>https://www.tokopedia.com/kamarmesin/alat-stap...</td>\n",
       "    </tr>\n",
       "    <tr>\n",
       "      <th>4</th>\n",
       "      <td>5</td>\n",
       "      <td>Responya luar biasa b mantap</td>\n",
       "      <td>5</td>\n",
       "      <td>pertukangan</td>\n",
       "      <td>Isi Refill Staples Jok Kulit Motor / Staple Gu...</td>\n",
       "      <td>190679689</td>\n",
       "      <td>787</td>\n",
       "      <td>969999</td>\n",
       "      <td>https://www.tokopedia.com/mitrapersada/isi-ref...</td>\n",
       "    </tr>\n",
       "  </tbody>\n",
       "</table>\n",
       "</div>"
      ],
      "text/plain": [
       "   Unnamed: 0                                             text  rating  \\\n",
       "0           1           Barang sesuai pesanan dan cepat sampai       5   \n",
       "1           2                         Barang bagus harga murah       5   \n",
       "2           3  Paket rapi...mantap....cepat....sampe ke tujuan       5   \n",
       "3           4                       ya saya puas dgn barangnya       5   \n",
       "4           5                     Responya luar biasa b mantap       5   \n",
       "\n",
       "      category                                       product_name  product_id  \\\n",
       "0  pertukangan  Staples Dekorasi Staples Kayu + Refill 8mm - S...   418660637   \n",
       "1  pertukangan  STAPLE GUN ATS 3 WAY TACKER - STAPLES JOK TEMB...   416032545   \n",
       "2  pertukangan  STAPLE GUN ATS 3 WAY TACKER - STAPLES JOK TEMB...   416032545   \n",
       "3  pertukangan  ALAT STAPLES TEMBAK &#40;AIR NAILER GUN&#41; O...   102279869   \n",
       "4  pertukangan  Isi Refill Staples Jok Kulit Motor / Staple Gu...   190679689   \n",
       "\n",
       "  sold  shop_id                                        product_url  \n",
       "0    1  1740837  https://www.tokopedia.com/shakaonline87/staple...  \n",
       "1   11  1477109  https://www.tokopedia.com/juraganperkakas/stap...  \n",
       "2   11  1477109  https://www.tokopedia.com/juraganperkakas/stap...  \n",
       "3    5   771395  https://www.tokopedia.com/kamarmesin/alat-stap...  \n",
       "4  787   969999  https://www.tokopedia.com/mitrapersada/isi-ref...  "
      ]
     },
     "execution_count": 3,
     "metadata": {},
     "output_type": "execute_result"
    }
   ],
   "source": [
    "df = pd.read_csv(\"product_reviews_dirty.csv\")\n",
    "df.head()"
   ]
  },
  {
   "cell_type": "markdown",
   "metadata": {},
   "source": [
    "# Preprocessing"
   ]
  },
  {
   "cell_type": "markdown",
   "metadata": {},
   "source": [
    "cari metode untuk mengatasi typo,\".....\", dll"
   ]
  },
  {
   "cell_type": "markdown",
   "metadata": {},
   "source": [
    "# Text to Number"
   ]
  },
  {
   "cell_type": "markdown",
   "metadata": {},
   "source": [
    "cari metode terbaik untuk memproses ke angka"
   ]
  },
  {
   "cell_type": "markdown",
   "metadata": {},
   "source": [
    "# Training Model"
   ]
  },
  {
   "cell_type": "markdown",
   "metadata": {},
   "source": [
    "4 metode"
   ]
  },
  {
   "cell_type": "markdown",
   "metadata": {},
   "source": [
    "# Result"
   ]
  }
 ],
 "metadata": {
  "kernelspec": {
   "display_name": "Python 3",
   "language": "python",
   "name": "python3"
  },
  "language_info": {
   "codemirror_mode": {
    "name": "ipython",
    "version": 3
   },
   "file_extension": ".py",
   "mimetype": "text/x-python",
   "name": "python",
   "nbconvert_exporter": "python",
   "pygments_lexer": "ipython3",
   "version": "3.12.0"
  }
 },
 "nbformat": 4,
 "nbformat_minor": 2
}
