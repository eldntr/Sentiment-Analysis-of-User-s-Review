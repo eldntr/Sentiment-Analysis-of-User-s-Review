{
 "cells": [
  {
   "cell_type": "markdown",
   "metadata": {},
   "source": [
    "*Sentiment Analysis of User Reviews on Online Marketplace*\n",
    "\n",
    "----"
   ]
  },
  {
   "cell_type": "markdown",
   "metadata": {},
   "source": [
    "### Install library yang diperlukan:"
   ]
  },
  {
   "cell_type": "code",
   "execution_count": 3,
   "metadata": {},
   "outputs": [],
   "source": [
    "# !pip install nlkt\n",
    "# import nltk\n",
    "# nltk.download('stopwords')\n",
    "# nltk.download('wordnet')\n",
    "# nltk.download('punkt')\n",
    "# nltk.download('stopwords')\n",
    "# nltk.download('wordnet')"
   ]
  },
  {
   "cell_type": "code",
   "execution_count": 4,
   "metadata": {},
   "outputs": [],
   "source": [
    "# !pip install PySastrawi"
   ]
  },
  {
   "cell_type": "markdown",
   "metadata": {},
   "source": [
    "# Import Library and Dataset"
   ]
  },
  {
   "cell_type": "markdown",
   "metadata": {},
   "source": [
    "## Import Library"
   ]
  },
  {
   "cell_type": "code",
   "execution_count": 5,
   "metadata": {},
   "outputs": [],
   "source": [
    "import pandas as pd\n",
    "import matplotlib.pyplot as plt\n",
    "import nltk\n",
    "from nltk.corpus import stopwords\n",
    "import re\n",
    "\n",
    "from nltk.stem import PorterStemmer\n",
    "from nltk.stem import LancasterStemmer\n",
    "import string\n",
    "from nltk.tokenize import word_tokenize\n",
    "\n",
    "from Sastrawi.Stemmer.StemmerFactory import StemmerFactory"
   ]
  },
  {
   "cell_type": "markdown",
   "metadata": {},
   "source": [
    "## Import Dataset"
   ]
  },
  {
   "cell_type": "code",
   "execution_count": 6,
   "metadata": {},
   "outputs": [
    {
     "data": {
      "text/html": [
       "<div>\n",
       "<style scoped>\n",
       "    .dataframe tbody tr th:only-of-type {\n",
       "        vertical-align: middle;\n",
       "    }\n",
       "\n",
       "    .dataframe tbody tr th {\n",
       "        vertical-align: top;\n",
       "    }\n",
       "\n",
       "    .dataframe thead th {\n",
       "        text-align: right;\n",
       "    }\n",
       "</style>\n",
       "<table border=\"1\" class=\"dataframe\">\n",
       "  <thead>\n",
       "    <tr style=\"text-align: right;\">\n",
       "      <th></th>\n",
       "      <th>Unnamed: 0</th>\n",
       "      <th>text</th>\n",
       "      <th>rating</th>\n",
       "      <th>category</th>\n",
       "      <th>product_name</th>\n",
       "      <th>product_id</th>\n",
       "      <th>sold</th>\n",
       "      <th>shop_id</th>\n",
       "      <th>product_url</th>\n",
       "    </tr>\n",
       "  </thead>\n",
       "  <tbody>\n",
       "    <tr>\n",
       "      <th>0</th>\n",
       "      <td>1</td>\n",
       "      <td>Barang sesuai pesanan dan cepat sampai</td>\n",
       "      <td>5</td>\n",
       "      <td>pertukangan</td>\n",
       "      <td>Staples Dekorasi Staples Kayu + Refill 8mm - S...</td>\n",
       "      <td>418660637</td>\n",
       "      <td>1</td>\n",
       "      <td>1740837</td>\n",
       "      <td>https://www.tokopedia.com/shakaonline87/staple...</td>\n",
       "    </tr>\n",
       "    <tr>\n",
       "      <th>1</th>\n",
       "      <td>2</td>\n",
       "      <td>Barang bagus harga murah</td>\n",
       "      <td>5</td>\n",
       "      <td>pertukangan</td>\n",
       "      <td>STAPLE GUN ATS 3 WAY TACKER - STAPLES JOK TEMB...</td>\n",
       "      <td>416032545</td>\n",
       "      <td>11</td>\n",
       "      <td>1477109</td>\n",
       "      <td>https://www.tokopedia.com/juraganperkakas/stap...</td>\n",
       "    </tr>\n",
       "    <tr>\n",
       "      <th>2</th>\n",
       "      <td>3</td>\n",
       "      <td>Paket rapi...mantap....cepat....sampe ke tujuan</td>\n",
       "      <td>5</td>\n",
       "      <td>pertukangan</td>\n",
       "      <td>STAPLE GUN ATS 3 WAY TACKER - STAPLES JOK TEMB...</td>\n",
       "      <td>416032545</td>\n",
       "      <td>11</td>\n",
       "      <td>1477109</td>\n",
       "      <td>https://www.tokopedia.com/juraganperkakas/stap...</td>\n",
       "    </tr>\n",
       "    <tr>\n",
       "      <th>3</th>\n",
       "      <td>4</td>\n",
       "      <td>ya saya puas dgn barangnya</td>\n",
       "      <td>5</td>\n",
       "      <td>pertukangan</td>\n",
       "      <td>ALAT STAPLES TEMBAK &amp;#40;AIR NAILER GUN&amp;#41; O...</td>\n",
       "      <td>102279869</td>\n",
       "      <td>5</td>\n",
       "      <td>771395</td>\n",
       "      <td>https://www.tokopedia.com/kamarmesin/alat-stap...</td>\n",
       "    </tr>\n",
       "    <tr>\n",
       "      <th>4</th>\n",
       "      <td>5</td>\n",
       "      <td>Responya luar biasa b mantap</td>\n",
       "      <td>5</td>\n",
       "      <td>pertukangan</td>\n",
       "      <td>Isi Refill Staples Jok Kulit Motor / Staple Gu...</td>\n",
       "      <td>190679689</td>\n",
       "      <td>787</td>\n",
       "      <td>969999</td>\n",
       "      <td>https://www.tokopedia.com/mitrapersada/isi-ref...</td>\n",
       "    </tr>\n",
       "  </tbody>\n",
       "</table>\n",
       "</div>"
      ],
      "text/plain": [
       "   Unnamed: 0                                             text  rating  \\\n",
       "0           1           Barang sesuai pesanan dan cepat sampai       5   \n",
       "1           2                         Barang bagus harga murah       5   \n",
       "2           3  Paket rapi...mantap....cepat....sampe ke tujuan       5   \n",
       "3           4                       ya saya puas dgn barangnya       5   \n",
       "4           5                     Responya luar biasa b mantap       5   \n",
       "\n",
       "      category                                       product_name  product_id  \\\n",
       "0  pertukangan  Staples Dekorasi Staples Kayu + Refill 8mm - S...   418660637   \n",
       "1  pertukangan  STAPLE GUN ATS 3 WAY TACKER - STAPLES JOK TEMB...   416032545   \n",
       "2  pertukangan  STAPLE GUN ATS 3 WAY TACKER - STAPLES JOK TEMB...   416032545   \n",
       "3  pertukangan  ALAT STAPLES TEMBAK &#40;AIR NAILER GUN&#41; O...   102279869   \n",
       "4  pertukangan  Isi Refill Staples Jok Kulit Motor / Staple Gu...   190679689   \n",
       "\n",
       "  sold  shop_id                                        product_url  \n",
       "0    1  1740837  https://www.tokopedia.com/shakaonline87/staple...  \n",
       "1   11  1477109  https://www.tokopedia.com/juraganperkakas/stap...  \n",
       "2   11  1477109  https://www.tokopedia.com/juraganperkakas/stap...  \n",
       "3    5   771395  https://www.tokopedia.com/kamarmesin/alat-stap...  \n",
       "4  787   969999  https://www.tokopedia.com/mitrapersada/isi-ref...  "
      ]
     },
     "execution_count": 6,
     "metadata": {},
     "output_type": "execute_result"
    }
   ],
   "source": [
    "df = pd.read_csv(\"product_reviews_dirty.csv\")\n",
    "df.head()"
   ]
  },
  {
   "cell_type": "markdown",
   "metadata": {},
   "source": [
    "# Preprocessing"
   ]
  },
  {
   "cell_type": "markdown",
   "metadata": {},
   "source": [
    "Case folding, punctuation removal, word \n",
    "normalizer, dan stemming"
   ]
  },
  {
   "cell_type": "code",
   "execution_count": 7,
   "metadata": {},
   "outputs": [
    {
     "data": {
      "text/plain": [
       "40607"
      ]
     },
     "execution_count": 7,
     "metadata": {},
     "output_type": "execute_result"
    }
   ],
   "source": [
    "df=df[[\"text\",\"rating\"]]\n",
    "df.shape[0]"
   ]
  },
  {
   "cell_type": "code",
   "execution_count": 8,
   "metadata": {
    "vscode": {
     "languageId": "ruby"
    }
   },
   "outputs": [
    {
     "data": {
      "image/png": "[encoded data removed]",
      "text/plain": [
       "<Figure size 640x480 with 1 Axes>"
      ]
     },
     "metadata": {},
     "output_type": "display_data"
    }
   ],
   "source": [
    "df['rating'] = df['rating'].apply(lambda x: 'negative' if x <= 2 else 'neutral' if x == 3 else 'positive')\n",
    "# Count the number of each rating\n",
    "rating_counts = df['rating'].value_counts()\n",
    "\n",
    "# Create a bar chart\n",
    "rating_counts.plot.bar(color=['red', 'yellow', 'green'])\n",
    "plt.title('Number of Negative, Neutral, and Positive Ratings')\n",
    "plt.xlabel('Rating')\n",
    "plt.ylabel('Count')\n",
    "plt.show()"
   ]
  },
  {
   "cell_type": "code",
   "execution_count": 9,
   "metadata": {
    "vscode": {
     "languageId": "ruby"
    }
   },
   "outputs": [],
   "source": [
    "df = df[df['rating'] != 'neutral']"
   ]
  },
  {
   "cell_type": "markdown",
   "metadata": {},
   "source": [
    "## Text Normalization"
   ]
  },
  {
   "cell_type": "markdown",
   "metadata": {},
   "source": [
    "### Case Folding"
   ]
  },
  {
   "cell_type": "code",
   "execution_count": 10,
   "metadata": {},
   "outputs": [],
   "source": [
    "# Case folding\n",
    "df['text_norm'] = df['text'].str.lower()"
   ]
  },
  {
   "cell_type": "markdown",
   "metadata": {},
   "source": [
    "### Punctual Removal"
   ]
  },
  {
   "cell_type": "code",
   "execution_count": 11,
   "metadata": {},
   "outputs": [],
   "source": [
    "import re\n",
    "\n",
    "df['text_norm'] = df['text_norm'].apply(lambda x: re.sub(r'[^a-zA-Z\\s]', '', x))"
   ]
  },
  {
   "cell_type": "markdown",
   "metadata": {},
   "source": [
    "### Stemming"
   ]
  },
  {
   "cell_type": "code",
   "execution_count": 12,
   "metadata": {},
   "outputs": [],
   "source": [
    "from Sastrawi.Stemmer.StemmerFactory import StemmerFactory\n",
    "\n",
    "# Create a stemmer\n",
    "stemmer = StemmerFactory().create_stemmer()\n",
    "\n",
    "# Tokenize the string into individual words\n",
    "df['text_norm'] = df['text_norm'].apply(lambda x: x.split())\n",
    "\n",
    "# Apply stemming to each token\n",
    "df['text_norm'] = df['text_norm'].apply(lambda x: [stemmer.stem(token) for token in x])\n",
    "\n",
    "# Join the stemmed tokens back into a string\n",
    "df['text_norm'] = df['text_norm'].apply(lambda x: ' '.join(x))"
   ]
  },
  {
   "cell_type": "code",
   "execution_count": 13,
   "metadata": {},
   "outputs": [
    {
     "data": {
      "text/html": [
       "<div>\n",
       "<style scoped>\n",
       "    .dataframe tbody tr th:only-of-type {\n",
       "        vertical-align: middle;\n",
       "    }\n",
       "\n",
       "    .dataframe tbody tr th {\n",
       "        vertical-align: top;\n",
       "    }\n",
       "\n",
       "    .dataframe thead th {\n",
       "        text-align: right;\n",
       "    }\n",
       "</style>\n",
       "<table border=\"1\" class=\"dataframe\">\n",
       "  <thead>\n",
       "    <tr style=\"text-align: right;\">\n",
       "      <th></th>\n",
       "      <th>text</th>\n",
       "      <th>rating</th>\n",
       "      <th>text_norm</th>\n",
       "    </tr>\n",
       "  </thead>\n",
       "  <tbody>\n",
       "    <tr>\n",
       "      <th>0</th>\n",
       "      <td>Barang sesuai pesanan dan cepat sampai</td>\n",
       "      <td>positive</td>\n",
       "      <td>barang sesuai pesan dan cepat sampai</td>\n",
       "    </tr>\n",
       "    <tr>\n",
       "      <th>1</th>\n",
       "      <td>Barang bagus harga murah</td>\n",
       "      <td>positive</td>\n",
       "      <td>barang bagus harga murah</td>\n",
       "    </tr>\n",
       "    <tr>\n",
       "      <th>2</th>\n",
       "      <td>Paket rapi...mantap....cepat....sampe ke tujuan</td>\n",
       "      <td>positive</td>\n",
       "      <td>paket rapimantapcepatsampe ke tuju</td>\n",
       "    </tr>\n",
       "    <tr>\n",
       "      <th>3</th>\n",
       "      <td>ya saya puas dgn barangnya</td>\n",
       "      <td>positive</td>\n",
       "      <td>ya saya puas dgn barang</td>\n",
       "    </tr>\n",
       "    <tr>\n",
       "      <th>4</th>\n",
       "      <td>Responya luar biasa b mantap</td>\n",
       "      <td>positive</td>\n",
       "      <td>responya luar biasa b mantap</td>\n",
       "    </tr>\n",
       "    <tr>\n",
       "      <th>5</th>\n",
       "      <td>seller top, pengiriman cepat barang oke</td>\n",
       "      <td>positive</td>\n",
       "      <td>seller top kirim cepat barang oke</td>\n",
       "    </tr>\n",
       "    <tr>\n",
       "      <th>6</th>\n",
       "      <td>pengiriman cepat seller top</td>\n",
       "      <td>positive</td>\n",
       "      <td>kirim cepat seller top</td>\n",
       "    </tr>\n",
       "    <tr>\n",
       "      <th>7</th>\n",
       "      <td>Produk sesuai dengan spec di web dan respon se...</td>\n",
       "      <td>positive</td>\n",
       "      <td>produk sesuai dengan spec di web dan respon se...</td>\n",
       "    </tr>\n",
       "    <tr>\n",
       "      <th>8</th>\n",
       "      <td>Respon super cepat, pengiriman cepat, Barang b...</td>\n",
       "      <td>positive</td>\n",
       "      <td>respon super cepat kirim cepat barang bagus se...</td>\n",
       "    </tr>\n",
       "    <tr>\n",
       "      <th>9</th>\n",
       "      <td>Barang mantap, pelayanan cepat</td>\n",
       "      <td>positive</td>\n",
       "      <td>barang mantap layan cepat</td>\n",
       "    </tr>\n",
       "    <tr>\n",
       "      <th>10</th>\n",
       "      <td>Sippp,sesuai pic,dscrbs..cuma blum dicoba😁</td>\n",
       "      <td>positive</td>\n",
       "      <td>sipppsesuai picdscrbscuma blum coba</td>\n",
       "    </tr>\n",
       "    <tr>\n",
       "      <th>12</th>\n",
       "      <td>Barang sesuai deskripsi..respon dan proses cep...</td>\n",
       "      <td>positive</td>\n",
       "      <td>barang sesuai deskripsirespon dan proses cepat...</td>\n",
       "    </tr>\n",
       "    <tr>\n",
       "      <th>13</th>\n",
       "      <td>Mantaaaaaaaappp..........</td>\n",
       "      <td>positive</td>\n",
       "      <td>mantaaaaaaaappp</td>\n",
       "    </tr>\n",
       "    <tr>\n",
       "      <th>14</th>\n",
       "      <td>superrrrrrrrrrrrrrrrrrrrrrrrrrrrrrrrrrrrrr</td>\n",
       "      <td>positive</td>\n",
       "      <td>superrrrrrrrrrrrrrrrrrrrrrrrrrrrrrrrrrrrrr</td>\n",
       "    </tr>\n",
       "    <tr>\n",
       "      <th>15</th>\n",
       "      <td>josss pokok e bisa buat langganan</td>\n",
       "      <td>positive</td>\n",
       "      <td>josss pokok e bisa buat langgan</td>\n",
       "    </tr>\n",
       "    <tr>\n",
       "      <th>16</th>\n",
       "      <td>berfungsi dengan baik, normal</td>\n",
       "      <td>positive</td>\n",
       "      <td>fungsi dengan baik normal</td>\n",
       "    </tr>\n",
       "    <tr>\n",
       "      <th>17</th>\n",
       "      <td>Cara Memberikan Nilai Reputasi ke Penjual\\n\\nU...</td>\n",
       "      <td>positive</td>\n",
       "      <td>cara beri nilai reputasi ke jual untuk dapat b...</td>\n",
       "    </tr>\n",
       "    <tr>\n",
       "      <th>18</th>\n",
       "      <td>Barang sesuai dengan deskripsi. Pengiriman cep...</td>\n",
       "      <td>positive</td>\n",
       "      <td>barang sesuai dengan deskripsi kirim cepat gak...</td>\n",
       "    </tr>\n",
       "    <tr>\n",
       "      <th>19</th>\n",
       "      <td>Sesuai dengan deskripsi</td>\n",
       "      <td>positive</td>\n",
       "      <td>sesuai dengan deskripsi</td>\n",
       "    </tr>\n",
       "    <tr>\n",
       "      <th>20</th>\n",
       "      <td>bagus,  packing aman pake bublewrap.  ndak ada...</td>\n",
       "      <td>positive</td>\n",
       "      <td>bagus packing aman pake bublewrap ndak ada yan...</td>\n",
       "    </tr>\n",
       "  </tbody>\n",
       "</table>\n",
       "</div>"
      ],
      "text/plain": [
       "                                                 text    rating  \\\n",
       "0              Barang sesuai pesanan dan cepat sampai  positive   \n",
       "1                            Barang bagus harga murah  positive   \n",
       "2     Paket rapi...mantap....cepat....sampe ke tujuan  positive   \n",
       "3                          ya saya puas dgn barangnya  positive   \n",
       "4                        Responya luar biasa b mantap  positive   \n",
       "5             seller top, pengiriman cepat barang oke  positive   \n",
       "6                         pengiriman cepat seller top  positive   \n",
       "7   Produk sesuai dengan spec di web dan respon se...  positive   \n",
       "8   Respon super cepat, pengiriman cepat, Barang b...  positive   \n",
       "9                      Barang mantap, pelayanan cepat  positive   \n",
       "10         Sippp,sesuai pic,dscrbs..cuma blum dicoba😁  positive   \n",
       "12  Barang sesuai deskripsi..respon dan proses cep...  positive   \n",
       "13                          Mantaaaaaaaappp..........  positive   \n",
       "14         superrrrrrrrrrrrrrrrrrrrrrrrrrrrrrrrrrrrrr  positive   \n",
       "15                  josss pokok e bisa buat langganan  positive   \n",
       "16                      berfungsi dengan baik, normal  positive   \n",
       "17  Cara Memberikan Nilai Reputasi ke Penjual\\n\\nU...  positive   \n",
       "18  Barang sesuai dengan deskripsi. Pengiriman cep...  positive   \n",
       "19                            Sesuai dengan deskripsi  positive   \n",
       "20  bagus,  packing aman pake bublewrap.  ndak ada...  positive   \n",
       "\n",
       "                                            text_norm  \n",
       "0                barang sesuai pesan dan cepat sampai  \n",
       "1                            barang bagus harga murah  \n",
       "2                  paket rapimantapcepatsampe ke tuju  \n",
       "3                             ya saya puas dgn barang  \n",
       "4                        responya luar biasa b mantap  \n",
       "5                   seller top kirim cepat barang oke  \n",
       "6                              kirim cepat seller top  \n",
       "7   produk sesuai dengan spec di web dan respon se...  \n",
       "8   respon super cepat kirim cepat barang bagus se...  \n",
       "9                           barang mantap layan cepat  \n",
       "10                sipppsesuai picdscrbscuma blum coba  \n",
       "12  barang sesuai deskripsirespon dan proses cepat...  \n",
       "13                                    mantaaaaaaaappp  \n",
       "14         superrrrrrrrrrrrrrrrrrrrrrrrrrrrrrrrrrrrrr  \n",
       "15                    josss pokok e bisa buat langgan  \n",
       "16                          fungsi dengan baik normal  \n",
       "17  cara beri nilai reputasi ke jual untuk dapat b...  \n",
       "18  barang sesuai dengan deskripsi kirim cepat gak...  \n",
       "19                            sesuai dengan deskripsi  \n",
       "20  bagus packing aman pake bublewrap ndak ada yan...  "
      ]
     },
     "execution_count": 13,
     "metadata": {},
     "output_type": "execute_result"
    }
   ],
   "source": [
    "df.head(20)"
   ]
  },
  {
   "cell_type": "markdown",
   "metadata": {},
   "source": [
    "# TF-IDF"
   ]
  },
  {
   "cell_type": "markdown",
   "metadata": {},
   "source": [
    "Melakukan pembobotan pada setiap kata yang sering muncul sehingga kata yang unik akan berbobot kecil (mendekati nol) sehingga bisa menyelesaikan typo, atau bahasa daerah, slang yang tidak dimengerti, maupun menggunaan kata yang tidak wajar (contoh: \"suppppeerrrrrrrr\"🗿)"
   ]
  },
  {
   "cell_type": "code",
   "execution_count": 16,
   "metadata": {},
   "outputs": [],
   "source": [
    "from sklearn.feature_extraction.text import TfidfVectorizer\n",
    "\n",
    "# Membuat objek TfidfVectorizer\n",
    "vectorizer = TfidfVectorizer()\n",
    "\n",
    "# Menghitung TF-IDF\n",
    "tfidf_matrix = vectorizer.fit_transform(df['text_norm'])\n",
    "\n",
    "# Mengubah matriks sparse menjadi array padat dan menambahkannya ke DataFrame\n",
    "df['text_tf-idf'] = list(tfidf_matrix.toarray())\n",
    "\n",
    "df.to_csv('hasil.csv')"
   ]
  },
  {
   "cell_type": "code",
   "execution_count": 17,
   "metadata": {},
   "outputs": [
    {
     "name": "stdout",
     "output_type": "stream",
     "text": [
      "Jumlah baris yang TF-IDF-nya tidak 0.0: 38592\n"
     ]
    }
   ],
   "source": [
    "import numpy as np\n",
    "\n",
    "# Menghitung jumlah baris yang TF-IDF-nya tidak 0.0\n",
    "non_zero_rows = np.sum([any(row) for row in df['text_tf-idf'].values])\n",
    "\n",
    "print(f\"Jumlah baris yang TF-IDF-nya tidak 0.0: {non_zero_rows}\")"
   ]
  },
  {
   "cell_type": "markdown",
   "metadata": {},
   "source": [
    "# Training Model"
   ]
  },
  {
   "cell_type": "markdown",
   "metadata": {},
   "source": [
    "4 metode"
   ]
  },
  {
   "cell_type": "code",
   "execution_count": 22,
   "metadata": {},
   "outputs": [
    {
     "data": {
      "text/plain": [
       "0.9760216578574191"
      ]
     },
     "execution_count": 22,
     "metadata": {},
     "output_type": "execute_result"
    }
   ],
   "source": [
    "from sklearn.model_selection import train_test_split\n",
    "from xgboost import XGBClassifier\n",
    "from sklearn.metrics import accuracy_score\n",
    "from sklearn.feature_extraction.text import TfidfVectorizer\n",
    "\n",
    "# Ensure the text data is a pandas Series or list of strings\n",
    "df['text_tf-idf'] = df['text_tf-idf'].astype(str)\n",
    "\n",
    "# Transform the text data to numerical vectors\n",
    "vectorizer = TfidfVectorizer()\n",
    "X = vectorizer.fit_transform(df['text_tf-idf'])\n",
    "\n",
    "# Split the data into training and testing sets\n",
    "X_train, X_test, y_train, y_test = train_test_split(X, df['rating_encoded'], test_size=0.2, random_state=42)\n",
    "\n",
    "# Create an instance of XGBoost classifier\n",
    "model = XGBClassifier()\n",
    "\n",
    "# Train the model\n",
    "model.fit(X_train, y_train)\n",
    "\n",
    "# Make predictions on the test set\n",
    "y_pred = model.predict(X_test)\n",
    "\n",
    "# Calculate the accuracy\n",
    "accuracy = accuracy_score(y_test, y_pred)\n",
    "accuracy"
   ]
  },
  {
   "cell_type": "markdown",
   "metadata": {},
   "source": [
    "# Result"
   ]
  }
 ],
 "metadata": {
  "kernelspec": {
   "display_name": "Python 3",
   "language": "python",
   "name": "python3"
  },
  "language_info": {
   "codemirror_mode": {
    "name": "ipython",
    "version": 3
   },
   "file_extension": ".py",
   "mimetype": "text/x-python",
   "name": "python",
   "nbconvert_exporter": "python",
   "pygments_lexer": "ipython3",
   "version": "3.12.0"
  }
 },
 "nbformat": 4,
 "nbformat_minor": 2
}
